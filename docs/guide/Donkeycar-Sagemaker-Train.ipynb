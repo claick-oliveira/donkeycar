{
 "cells": [
  {
   "cell_type": "code",
   "execution_count": 2,
   "metadata": {},
   "outputs": [],
   "source": [
    "import os\n",
    "\n",
    "import donkeycar as dk\n",
    "\n",
    "from donkeycar.parts.datastore import TubGroup\n",
    "from donkeycar.parts.keras import KerasLinear"
   ]
  },
  {
   "cell_type": "code",
   "execution_count": 3,
   "metadata": {},
   "outputs": [],
   "source": [
    "def train(cfg, tub_names, new_model_path, base_model_path=None):\n",
    "    \"\"\"\n",
    "    use the specified data in tub_names to train an artifical neural network\n",
    "    saves the output trained model as model_name\n",
    "    \"\"\"\n",
    "    X_keys = ['cam/image_array']\n",
    "    y_keys = ['user/angle', 'user/throttle']\n",
    "\n",
    "    new_model_path = os.path.expanduser(new_model_path)\n",
    "\n",
    "    kl = KerasLinear()\n",
    "    if base_model_path is not None:\n",
    "        base_model_path = os.path.expanduser(base_model_path)\n",
    "        kl.load(base_model_path)\n",
    "\n",
    "    print('tub_names', tub_names)\n",
    "    if not tub_names:\n",
    "        tub_names = os.path.join(cfg.DATA_PATH, '*')\n",
    "    tubgroup = TubGroup(tub_names)\n",
    "    train_gen, val_gen = tubgroup.get_train_val_gen(X_keys, y_keys,\n",
    "                                                    batch_size=cfg.BATCH_SIZE,\n",
    "                                                    train_frac=cfg.TRAIN_TEST_SPLIT)\n",
    "\n",
    "    total_records = len(tubgroup.df)\n",
    "    total_train = int(total_records * cfg.TRAIN_TEST_SPLIT)\n",
    "    total_val = total_records - total_train\n",
    "    print('train: %d, validation: %d' % (total_train, total_val))\n",
    "    steps_per_epoch = total_train // cfg.BATCH_SIZE\n",
    "    print('steps_per_epoch', steps_per_epoch)\n",
    "\n",
    "    kl.train(train_gen,\n",
    "             val_gen,\n",
    "             saved_model_path=new_model_path,\n",
    "             steps=steps_per_epoch,\n",
    "             train_split=cfg.TRAIN_TEST_SPLIT)"
   ]
  },
  {
   "cell_type": "code",
   "execution_count": null,
   "metadata": {},
   "outputs": [],
   "source": [
    "cfg=dk.load_config(config_path='config.py')\n",
    "tub=\"data/tub\"\n",
    "model=\"models/car-model.pkl\"\n",
    "#base_model=\"models/car-model.pkl\""
   ]
  },
  {
   "cell_type": "code",
   "execution_count": null,
   "metadata": {},
   "outputs": [],
   "source": [
    "train(cfg, tub, model, base_model)"
   ]
  }
 ],
 "metadata": {
  "kernelspec": {
   "display_name": "conda_tensorflow_p36",
   "language": "python",
   "name": "conda_tensorflow_p36"
  },
  "language_info": {
   "codemirror_mode": {
    "name": "ipython",
    "version": 3
   },
   "file_extension": ".py",
   "mimetype": "text/x-python",
   "name": "python",
   "nbconvert_exporter": "python",
   "pygments_lexer": "ipython3",
   "version": "3.6.5"
  }
 },
 "nbformat": 4,
 "nbformat_minor": 2
}
